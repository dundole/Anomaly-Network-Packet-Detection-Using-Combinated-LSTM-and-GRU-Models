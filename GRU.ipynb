{
 "cells": [
  {
   "cell_type": "code",
   "execution_count": null,
   "id": "orange-receipt",
   "metadata": {},
   "outputs": [],
   "source": [
    "import numpy as np\n",
    "import pandas as pd\n",
    "\n",
    "import matplotlib.pyplot as plt\n",
    "from datetime import datetime\n",
    "\n",
    "# sklearn\n",
    "from sklearn.metrics import mean_squared_error\n",
    "from sklearn.model_selection import train_test_split\n",
    "from sklearn.metrics import accuracy_score, recall_score, precision_score, f1_score\n",
    "from sklearn.preprocessing import StandardScaler, MinMaxScaler\n",
    "from sklearn.model_selection import train_test_split\n",
    "from sklearn import metrics\n",
    "\n",
    "# keras\n",
    "import keras\n",
    "from keras import models, optimizers\n",
    "from keras.models import Sequential\n",
    "from keras.layers import Dense, Dropout, Activation, Flatten, LSTM\n",
    "from keras import Model ,models, layers, optimizers, regularizers\n",
    "from keras.callbacks import ModelCheckpoint\n",
    "import keras.backend.tensorflow_backend as K\n",
    "import tensorflow as tf\n",
    "\n",
    "import gc"
   ]
  },
  {
   "cell_type": "code",
   "execution_count": null,
   "id": "developmental-father",
   "metadata": {},
   "outputs": [],
   "source": [
    "train_label = np.load('dataset/train_label.npy')\n",
    "valid_label = np.load('dataset/valid_label.npy')\n",
    "test_label = np.load('dataset/test_label.npy')\n",
    "\n",
    "train_scaled = np.load('dataset/train_scaled.npy')\n",
    "valid_scaled = np.load('dataset/valid_scaled.npy')\n",
    "test_scaled = np.load('dataset/test_scaled.npy')"
   ]
  },
  {
   "cell_type": "code",
   "execution_count": null,
   "id": "strange-fault",
   "metadata": {},
   "outputs": [],
   "source": [
    "timesteps=30\n",
    "unit=128\n",
    "epoch=25\n",
    "batch_size=100\n",
    "\n",
    "# 모델생성\n",
    "with tf.device('/gpu:0'):\n",
    "    gru = Sequential()\n",
    "    gru.add(GRU(units=unit, input_shape=(timesteps, 78)))\n",
    "    gru.add(Dense(timesteps,activation='sigmoid'))\n",
    "    gru.compile(\n",
    "                loss='binary_crossentropy',\n",
    "                optimizer='adam',\n",
    "                metrics=['accuracy'],\n",
    "                )\n",
    "    gru.summary()\n",
    "    history = model.fit(train_scaled_reshape, train_label_reshape, epochs=epoch, batch_size=batch_size, \n",
    "                        validation_data=(test_scaled_reshape, test_label_reshape), verbose=1, shuffle=False)\n",
    "    gru.save('./model/gru.h5')"
   ]
  },
  {
   "cell_type": "code",
   "execution_count": null,
   "id": "inappropriate-saint",
   "metadata": {},
   "outputs": [],
   "source": [
    "gru = gru.load_model('./model/gru.h5')\n",
    "\n",
    "predict_result = gru.predict(valid_scaled_reshape)\n",
    "result = predict_result.reshape(predict_result.shape[0]*predict_result.shape[1],1)\n",
    "label = valid_label\n",
    "\n",
    "best_f1 = 0\n",
    "best_pr = 0\n",
    "best_th = 0\n",
    "\n",
    "for i in np.arange(0.1, 0.9, 0.01):\n",
    "    result_cp = result.copy()\n",
    "    \n",
    "    result_cp[result>=i] = 1\n",
    "    result_cp[result<i] = 0\n",
    "    \n",
    "    f1 = f1_score(label, result_cp)*100\n",
    "    pr = 0\n",
    "    if f1 > best_f1:\n",
    "        pr = precision_score(label, result_cp)*100\n",
    "        if pr > best_pr:\n",
    "            best_th = i\n",
    "            best_f1 = f1\n",
    "            best_pr = pr\n",
    "    \n",
    "    del[[result_cp]]\n",
    "print('\\n\\n')        \n",
    "print('best f1 : ', best_f1)\n",
    "print('best th : ', best_th)"
   ]
  },
  {
   "cell_type": "code",
   "execution_count": null,
   "id": "coordinated-rotation",
   "metadata": {},
   "outputs": [],
   "source": [
    "valid_preditions = model.predict(test_scaled_reshape)\n",
    "result = valid_preditions.reshape(valid_preditions.shape[0]*valid_preditions.shape[1],1)\n",
    "label = test_label\n",
    "\n",
    "result_cp = result.copy()\n",
    "\n",
    "result_cp[result>=best_th] = 1\n",
    "result_cp[result<best_th] = 0\n",
    "\n",
    "print(\"악성 분류 기준:\", best_th)\n",
    "print(\"accuracy_score :\",accuracy_score(test_lable, result_cp)*100)\n",
    "print(\"recall_score :\",recall_score(test_lable, result_cp)*100)\n",
    "print(\"precision_score :\",precision_score(test_lable, result_cp)*100)\n",
    "print(\"f1_score :\",f1_score(test_lable, result_cp)*100)\n",
    "\n",
    "del[[result_cp]]"
   ]
  }
 ],
 "metadata": {
  "kernelspec": {
   "display_name": "Python 3",
   "language": "python",
   "name": "python3"
  },
  "language_info": {
   "codemirror_mode": {
    "name": "ipython",
    "version": 3
   },
   "file_extension": ".py",
   "mimetype": "text/x-python",
   "name": "python",
   "nbconvert_exporter": "python",
   "pygments_lexer": "ipython3",
   "version": "3.8.8"
  }
 },
 "nbformat": 4,
 "nbformat_minor": 5
}
