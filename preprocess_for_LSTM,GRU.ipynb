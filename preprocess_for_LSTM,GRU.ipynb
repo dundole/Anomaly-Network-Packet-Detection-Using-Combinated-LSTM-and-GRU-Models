{
 "cells": [
  {
   "cell_type": "code",
   "execution_count": null,
   "id": "copyrighted-metabolism",
   "metadata": {},
   "outputs": [],
   "source": [
    "import numpy as np\n",
    "import pandas as pd\n",
    "\n",
    "import matplotlib.pyplot as plt\n",
    "from datetime import datetime\n",
    "\n",
    "# sklearn\n",
    "from sklearn.metrics import mean_squared_error\n",
    "from sklearn.model_selection import train_test_split\n",
    "from sklearn.metrics import accuracy_score, recall_score, precision_score, f1_score\n",
    "from sklearn.preprocessing import StandardScaler, MinMaxScaler\n",
    "from sklearn.model_selection import train_test_split\n",
    "from sklearn import metrics\n",
    "\n",
    "# keras\n",
    "import keras\n",
    "from keras import models, optimizers\n",
    "from keras.models import Sequential\n",
    "from keras.layers import Dense, Dropout, Activation, Flatten, LSTM\n",
    "from keras import Model ,models, layers, optimizers, regularizers\n",
    "from keras.callbacks import ModelCheckpoint\n",
    "import keras.backend.tensorflow_backend as K\n",
    "import tensorflow as tf"
   ]
  },
  {
   "cell_type": "code",
   "execution_count": null,
   "id": "satellite-consultation",
   "metadata": {},
   "outputs": [],
   "source": [
    "data = pd.read_csv(\"dataset/total2.csv\", index_col=2)\n",
    "\n",
    "# 라벨 처리\n",
    "data.loc[data['Label'] != 'Benign', \"Label\"] = 1\n",
    "data.loc[data['Label'] == 'Benign', \"Label\"] = 0\n",
    "data = data.apply(pd.to_numeric, errors = 'coerce')\n",
    "\n",
    "#결측치 제거\n",
    "data = data.replace([np.inf, -np.inf], np.nan)\n",
    "data.fillna(0.0,inplace=True)\n",
    "\n",
    "# 데이터 셋 분할\n",
    "train, test = train_test_split(data, test_size=0.3)\n",
    "train, valid = train_test_split(train, test_size=0.3)\n",
    "\n",
    "# 학습용 라벨 분리\n",
    "train_label = train['Label'].astype('float64').values\n",
    "valid_label = valid['Label'].astype('float64').values\n",
    "test_label = test['Label'].astype('float64').values\n",
    "\n",
    "train = train.drop('Label',axis=1).values\n",
    "valid = valid.drop('Label',axis=1).values\n",
    "test = test.drop('Label', axis=1).values\n",
    "\n",
    "# min max 정규화\n",
    "scaler = MinMaxScaler(feature_range=(0,1))\n",
    "train_scaled = scaler.fit_transform(train)\n",
    "valid_scaled = scaler.fit_transform(valid)\n",
    "test_scaled = scaler.fit_transform(test)\n",
    "\n",
    "# train, valid, test 데이터 저장\n",
    "np.save('dataset/train_scaled.npy', train_scaled)\n",
    "np.save('dataset/valid_scaled.npy', valid_scaled)\n",
    "np.save('dataset/test_scaled.npy', test_scaled)\n",
    "\n",
    "# 라벨 데이터 저장\n",
    "np.save('dataset/train_label.npy', train_label)\n",
    "np.save('dataset/valid_label.npy', valid_label)\n",
    "np.save('dataset/test_label.npy', test_label)"
   ]
  }
 ],
 "metadata": {
  "kernelspec": {
   "display_name": "Python 3",
   "language": "python",
   "name": "python3"
  },
  "language_info": {
   "codemirror_mode": {
    "name": "ipython",
    "version": 3
   },
   "file_extension": ".py",
   "mimetype": "text/x-python",
   "name": "python",
   "nbconvert_exporter": "python",
   "pygments_lexer": "ipython3",
   "version": "3.8.8"
  }
 },
 "nbformat": 4,
 "nbformat_minor": 5
}
